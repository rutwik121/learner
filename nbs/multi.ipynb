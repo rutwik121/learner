{
 "cells": [
  {
   "cell_type": "raw",
   "id": "6d08f1ad-0f40-4b01-81ad-60e7cd2d7ed9",
   "metadata": {},
   "source": [
    "---\n",
    "title: \"multiplication\"\n",
    "format: \n",
    "  html:\n",
    "    code-fold: true\n",
    "jupyter: python3\n",
    "---"
   ]
  },
  {
   "cell_type": "markdown",
   "id": "bb7b081c-27b3-4399-ae35-8467d69f5254",
   "metadata": {},
   "source": [
    "## Multiplication\n",
    "\n",
    "hello"
   ]
  },
  {
   "cell_type": "code",
   "execution_count": null,
   "id": "6f1f5de3-0e27-47ac-8f1a-87f99bbc14a6",
   "metadata": {},
   "outputs": [],
   "source": [
    "#| default_exp multi"
   ]
  },
  {
   "cell_type": "code",
   "execution_count": null,
   "id": "7fc439c9-9391-4e6e-8a4f-900bb273418b",
   "metadata": {},
   "outputs": [
    {
     "data": {
      "text/plain": [
       "4225"
      ]
     },
     "execution_count": null,
     "metadata": {},
     "output_type": "execute_result"
    }
   ],
   "source": [
    "65*65"
   ]
  },
  {
   "cell_type": "code",
   "execution_count": null,
   "id": "366964b0-b16b-4f32-bb74-0d37b446304e",
   "metadata": {},
   "outputs": [],
   "source": [
    "#| export\n",
    "def say_hello(to):\n",
    "    \"Say hello to somebody\"\n",
    "    return f'Hello {to}!'"
   ]
  },
  {
   "cell_type": "code",
   "execution_count": null,
   "id": "76b917a5-ee30-47f5-8e12-b347d980ebe8",
   "metadata": {},
   "outputs": [],
   "source": [
    "#| export\n",
    "class HelloSayer:\n",
    "    \"Say hello to `to` using `say_hello`\"\n",
    "    def __init__(self, to): self.to = to\n",
    "        \n",
    "    def say(self):\n",
    "        \"Do the saying\"\n",
    "        return say_hello(self.to)"
   ]
  },
  {
   "cell_type": "code",
   "execution_count": null,
   "id": "d1b330b7-d3ed-49db-8581-4d8c852a6145",
   "metadata": {},
   "outputs": [
    {
     "data": {
      "text/plain": [
       "'Hello Alexis!'"
      ]
     },
     "execution_count": null,
     "metadata": {},
     "output_type": "execute_result"
    }
   ],
   "source": [
    "o = HelloSayer(\"Alexis\")\n",
    "o.say()"
   ]
  },
  {
   "cell_type": "code",
   "execution_count": null,
   "id": "5634d4c9-9002-4d20-8066-3c087d931cd0",
   "metadata": {},
   "outputs": [
    {
     "data": {
      "text/plain": [
       "'Say hello to `to` using `say_hello`'"
      ]
     },
     "execution_count": null,
     "metadata": {},
     "output_type": "execute_result"
    }
   ],
   "source": [
    "    \"Say hello to `to` using `say_hello`\""
   ]
  },
  {
   "cell_type": "code",
   "execution_count": null,
   "id": "3e834ddf-b836-4744-8adc-f382c3f54441",
   "metadata": {},
   "outputs": [],
   "source": []
  }
 ],
 "metadata": {
  "kernelspec": {
   "display_name": "python3",
   "language": "python",
   "name": "python3"
  }
 },
 "nbformat": 4,
 "nbformat_minor": 5
}
